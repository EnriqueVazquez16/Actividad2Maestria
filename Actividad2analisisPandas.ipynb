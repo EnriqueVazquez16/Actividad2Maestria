{
 "cells": [
  {
   "cell_type": "markdown",
   "metadata": {
    "id": "SML-04QQLd9l"
   },
   "source": [
    "**MAESTRÍA EN INTELIGENCIA ARTIFICIAL APLICADA**\n",
    "\n",
    "**Curso: TC4029 - Ciencia y analítica de datos**\n",
    "\n",
    "Tecnológico de Monterrey\n",
    "\n",
    "Prof Grettel Barceló Alonso\n",
    "\n",
    "**Semana 2**\n",
    "Pandas para el análisis de datos en Python\n",
    "\n",
    "---"
   ]
  },
  {
   "cell_type": "markdown",
   "metadata": {
    "id": "6q35__bSBB3G"
   },
   "source": [
    "*   NOMBRE: Felipe Enrique Vazquez Ruiz\n",
    "*   MATRÍCULA: A01638116\n"
   ]
  },
  {
   "cell_type": "markdown",
   "metadata": {
    "id": "AepY3wwtDXkc"
   },
   "source": [
    "---"
   ]
  },
  {
   "cell_type": "markdown",
   "metadata": {
    "id": "BumCtObqBqGr"
   },
   "source": [
    "En esta actividad usarás el archivo de datos `LaqnData.csv`. Cada fila de este conjunto de datos muestra un registro de medición, por hora, de uno de los siguientes cinco contaminantes del aire: \n",
    "\n",
    "*   `NO` (óxido nítrico)\n",
    "*   `NO2` (dióxido de nitrógeno)\n",
    "*   `NOX` (óxidos nitrosos)\n",
    "*   `PM10` (partículas suspendidas con un diámetro aerodinámico igual o menor a 10 micrómetros)\n",
    "*   `PM2.5` (partículas suspendidas con un diámetro aerodinámico igual o menor a 2.5 micrómetros)\n",
    "\n",
    "Los datos se recopilaron en una ubicación de Londres durante todo el año 2017.\n",
    "\n",
    "**NOTA IMPORTANTE:** Asegúrate de responder *explícitamente* todos los cuestionamientos.\n"
   ]
  },
  {
   "cell_type": "markdown",
   "metadata": {
    "id": "mqtTwAL3Mr44"
   },
   "source": [
    "1.\tDescarga el archivo: `LaqnData.csv` y guarda, en un dataframe (`air_df`), todos sus registros.\n",
    "*   Observa la estructura y contenido del dataframe con los atributos y métodos estudiados (`shape`, `columns`, `head()`, `tail()`, `dtypes`)\n",
    "*   Calcula el porcentaje total de valores faltantes"
   ]
  },
  {
   "cell_type": "code",
   "execution_count": 1,
   "metadata": {
    "id": "F5JognteLaJV"
   },
   "outputs": [
    {
     "name": "stdout",
     "output_type": "stream",
     "text": [
      "<class 'pandas.core.frame.DataFrame'>\n",
      "RangeIndex: 43800 entries, 0 to 43799\n",
      "Data columns (total 6 columns):\n",
      " #   Column                   Non-Null Count  Dtype  \n",
      "---  ------                   --------------  -----  \n",
      " 0   Site                     43800 non-null  object \n",
      " 1   Species                  43800 non-null  object \n",
      " 2   ReadingDateTime          43800 non-null  object \n",
      " 3   Value                    40570 non-null  float64\n",
      " 4   Units                    43800 non-null  object \n",
      " 5   Provisional or Ratified  43800 non-null  object \n",
      "dtypes: float64(1), object(5)\n",
      "memory usage: 2.0+ MB\n"
     ]
    },
    {
     "data": {
      "text/html": [
       "<div>\n",
       "<style scoped>\n",
       "    .dataframe tbody tr th:only-of-type {\n",
       "        vertical-align: middle;\n",
       "    }\n",
       "\n",
       "    .dataframe tbody tr th {\n",
       "        vertical-align: top;\n",
       "    }\n",
       "\n",
       "    .dataframe thead th {\n",
       "        text-align: right;\n",
       "    }\n",
       "</style>\n",
       "<table border=\"1\" class=\"dataframe\">\n",
       "  <thead>\n",
       "    <tr style=\"text-align: right;\">\n",
       "      <th></th>\n",
       "      <th>Site</th>\n",
       "      <th>Species</th>\n",
       "      <th>ReadingDateTime</th>\n",
       "      <th>Value</th>\n",
       "      <th>Units</th>\n",
       "      <th>Provisional or Ratified</th>\n",
       "    </tr>\n",
       "  </thead>\n",
       "  <tbody>\n",
       "    <tr>\n",
       "      <th>0</th>\n",
       "      <td>CT3</td>\n",
       "      <td>NO</td>\n",
       "      <td>01/01/2017 00:00</td>\n",
       "      <td>3.5</td>\n",
       "      <td>ug m-3</td>\n",
       "      <td>R</td>\n",
       "    </tr>\n",
       "    <tr>\n",
       "      <th>1</th>\n",
       "      <td>CT3</td>\n",
       "      <td>NO</td>\n",
       "      <td>01/01/2017 01:00</td>\n",
       "      <td>3.6</td>\n",
       "      <td>ug m-3</td>\n",
       "      <td>R</td>\n",
       "    </tr>\n",
       "    <tr>\n",
       "      <th>2</th>\n",
       "      <td>CT3</td>\n",
       "      <td>NO</td>\n",
       "      <td>01/01/2017 02:00</td>\n",
       "      <td>2.2</td>\n",
       "      <td>ug m-3</td>\n",
       "      <td>R</td>\n",
       "    </tr>\n",
       "    <tr>\n",
       "      <th>3</th>\n",
       "      <td>CT3</td>\n",
       "      <td>NO</td>\n",
       "      <td>01/01/2017 03:00</td>\n",
       "      <td>2.1</td>\n",
       "      <td>ug m-3</td>\n",
       "      <td>R</td>\n",
       "    </tr>\n",
       "    <tr>\n",
       "      <th>4</th>\n",
       "      <td>CT3</td>\n",
       "      <td>NO</td>\n",
       "      <td>01/01/2017 04:00</td>\n",
       "      <td>3.3</td>\n",
       "      <td>ug m-3</td>\n",
       "      <td>R</td>\n",
       "    </tr>\n",
       "  </tbody>\n",
       "</table>\n",
       "</div>"
      ],
      "text/plain": [
       "  Site Species   ReadingDateTime  Value   Units Provisional or Ratified\n",
       "0  CT3      NO  01/01/2017 00:00    3.5  ug m-3                       R\n",
       "1  CT3      NO  01/01/2017 01:00    3.6  ug m-3                       R\n",
       "2  CT3      NO  01/01/2017 02:00    2.2  ug m-3                       R\n",
       "3  CT3      NO  01/01/2017 03:00    2.1  ug m-3                       R\n",
       "4  CT3      NO  01/01/2017 04:00    3.3  ug m-3                       R"
      ]
     },
     "execution_count": 1,
     "metadata": {},
     "output_type": "execute_result"
    }
   ],
   "source": [
    "import pandas as pd\n",
    "air_df=pd.read_csv('./LaqnData.csv')\n",
    "air_df.info()\n",
    "air_df.head()"
   ]
  },
  {
   "cell_type": "markdown",
   "metadata": {
    "id": "APrlS185Cw-K"
   },
   "source": [
    "2.\tObtén la cantidad de valores únicos por columna (`nunique()`) para responder:\n",
    "\n",
    "\n",
    "*   ¿Cuántas mediciones se hicieron?\n",
    "*   ¿Cuántos contaminantes del aire (`Species`) se analizaron?\n",
    "*   ¿Qué columnas no agregan ningún valor informativo porque el mismo valor en todo el conjunto de datos? Elimínalas del dataframe.\n",
    "*   La columna `Units` tampoco posee valor informativo. Verifícalo con la función `unique()` y elimínala del dataframe."
   ]
  },
  {
   "cell_type": "code",
   "execution_count": 2,
   "metadata": {
    "id": "Ke0EGLVaCwm6"
   },
   "outputs": [
    {
     "name": "stdout",
     "output_type": "stream",
     "text": [
      "Numero de mediciones: 43800\n",
      "El numer de contaminantes es: 5\n",
      "El numero de sitios es: 1\n",
      "El numero de unidades es: 3\n",
      "El numero de opciones es: 1\n"
     ]
    },
    {
     "data": {
      "text/html": [
       "<div>\n",
       "<style scoped>\n",
       "    .dataframe tbody tr th:only-of-type {\n",
       "        vertical-align: middle;\n",
       "    }\n",
       "\n",
       "    .dataframe tbody tr th {\n",
       "        vertical-align: top;\n",
       "    }\n",
       "\n",
       "    .dataframe thead th {\n",
       "        text-align: right;\n",
       "    }\n",
       "</style>\n",
       "<table border=\"1\" class=\"dataframe\">\n",
       "  <thead>\n",
       "    <tr style=\"text-align: right;\">\n",
       "      <th></th>\n",
       "      <th>Species</th>\n",
       "      <th>ReadingDateTime</th>\n",
       "      <th>Value</th>\n",
       "      <th>Units</th>\n",
       "    </tr>\n",
       "  </thead>\n",
       "  <tbody>\n",
       "    <tr>\n",
       "      <th>0</th>\n",
       "      <td>NO</td>\n",
       "      <td>01/01/2017 00:00</td>\n",
       "      <td>3.5</td>\n",
       "      <td>ug m-3</td>\n",
       "    </tr>\n",
       "    <tr>\n",
       "      <th>1</th>\n",
       "      <td>NO</td>\n",
       "      <td>01/01/2017 01:00</td>\n",
       "      <td>3.6</td>\n",
       "      <td>ug m-3</td>\n",
       "    </tr>\n",
       "    <tr>\n",
       "      <th>2</th>\n",
       "      <td>NO</td>\n",
       "      <td>01/01/2017 02:00</td>\n",
       "      <td>2.2</td>\n",
       "      <td>ug m-3</td>\n",
       "    </tr>\n",
       "    <tr>\n",
       "      <th>3</th>\n",
       "      <td>NO</td>\n",
       "      <td>01/01/2017 03:00</td>\n",
       "      <td>2.1</td>\n",
       "      <td>ug m-3</td>\n",
       "    </tr>\n",
       "    <tr>\n",
       "      <th>4</th>\n",
       "      <td>NO</td>\n",
       "      <td>01/01/2017 04:00</td>\n",
       "      <td>3.3</td>\n",
       "      <td>ug m-3</td>\n",
       "    </tr>\n",
       "  </tbody>\n",
       "</table>\n",
       "</div>"
      ],
      "text/plain": [
       "  Species   ReadingDateTime  Value   Units\n",
       "0      NO  01/01/2017 00:00    3.5  ug m-3\n",
       "1      NO  01/01/2017 01:00    3.6  ug m-3\n",
       "2      NO  01/01/2017 02:00    2.2  ug m-3\n",
       "3      NO  01/01/2017 03:00    2.1  ug m-3\n",
       "4      NO  01/01/2017 04:00    3.3  ug m-3"
      ]
     },
     "execution_count": 2,
     "metadata": {},
     "output_type": "execute_result"
    }
   ],
   "source": [
    "mediciones=len(air_df)\n",
    "print(f\"Numero de mediciones: {mediciones}\")\n",
    "contaminantes=air_df.Species.unique()\n",
    "print(f\"El numer de contaminantes es: {len(contaminantes)}\")\n",
    "sites=air_df.Site.unique()\n",
    "print(f\"El numero de sitios es: {len(sites)}\")\n",
    "units=air_df.Units.unique()\n",
    "print(f\"El numero de unidades es: {len(units)}\")\n",
    "opciones=air_df['Provisional or Ratified'].unique()\n",
    "print(f\"El numero de opciones es: {len(opciones)}\")\n",
    "air_df.drop(['Site','Provisional or Ratified'],axis=1, inplace=True)\n",
    "air_df.head()"
   ]
  },
  {
   "cell_type": "markdown",
   "metadata": {
    "id": "zEddCwHWEJZ7"
   },
   "source": [
    "3.\tRealiza el conteo de valores por categoría (`value_counts()`) para la columna `Species` y determina si las lecturas de cada contaminante coincide con el total de mediciones."
   ]
  },
  {
   "cell_type": "code",
   "execution_count": 3,
   "metadata": {
    "id": "inCKasmZEPsv"
   },
   "outputs": [
    {
     "name": "stdout",
     "output_type": "stream",
     "text": [
      "Species\n",
      "NO       8760\n",
      "NO2      8760\n",
      "NOX      8760\n",
      "PM10     8760\n",
      "PM2.5    8760\n",
      "Name: count, dtype: int64\n",
      "El numero total de mediciones es 43800 y la suma de todas las mediciones por especie es 43800\n"
     ]
    },
    {
     "name": "stderr",
     "output_type": "stream",
     "text": [
      "C:\\Users\\k_iki\\AppData\\Local\\Temp\\ipykernel_4256\\3170807613.py:5: FutureWarning: Series.__getitem__ treating keys as positions is deprecated. In a future version, integer keys will always be treated as labels (consistent with DataFrame behavior). To access a value by position, use `ser.iloc[pos]`\n",
      "  total+=Frecuency_table[i]\n"
     ]
    }
   ],
   "source": [
    "Frecuency_table=air_df.Species.value_counts()\n",
    "print(Frecuency_table)\n",
    "total=0\n",
    "for i in range(len(Frecuency_table)):\n",
    "    total+=Frecuency_table[i]\n",
    "print(f\"El numero total de mediciones es {mediciones} y la suma de todas las mediciones por especie es {total}\")"
   ]
  },
  {
   "cell_type": "markdown",
   "metadata": {
    "id": "zhJM6l1vETfI"
   },
   "source": [
    "4.\tUtiliza la función `groupby()` para determinar el promedio del valor por contaminante."
   ]
  },
  {
   "cell_type": "code",
   "execution_count": 4,
   "metadata": {
    "id": "zstyHahSETJK"
   },
   "outputs": [
    {
     "name": "stdout",
     "output_type": "stream",
     "text": [
      "Species\n",
      "NO       15.045115\n",
      "NO2      38.010185\n",
      "NOX      61.078661\n",
      "PM10     22.551704\n",
      "PM2.5    14.999831\n",
      "Name: Value, dtype: float64\n"
     ]
    }
   ],
   "source": [
    "contaminanteMean=air_df.groupby('Species').Value.mean()\n",
    "print(contaminanteMean)"
   ]
  },
  {
   "cell_type": "markdown",
   "metadata": {
    "id": "GY2ux-Q_EV7J"
   },
   "source": [
    "5.\tEl conjunto de datos está en un formato largo. Aplique la función apropiada para cambiarlo al formato ancho (`ReadingDateTime` como índice y cada contaminante en una columna). Nombre el dataframe resultante como `pvt_df`."
   ]
  },
  {
   "cell_type": "code",
   "execution_count": 5,
   "metadata": {
    "id": "1IETxb9vFIF-"
   },
   "outputs": [
    {
     "name": "stdout",
     "output_type": "stream",
     "text": [
      "Species            NO   NO2   NOX  PM10  PM2.5\n",
      "ReadingDateTime                               \n",
      "01/01/2017 00:00  3.5  30.8  36.2  35.7    NaN\n",
      "01/01/2017 01:00  3.6  31.5  37.0  28.5    NaN\n",
      "01/01/2017 02:00  2.2  27.3  30.7  22.7    NaN\n",
      "01/01/2017 03:00  2.1  23.5  26.8  20.5    NaN\n",
      "01/01/2017 04:00  3.3  28.0  33.0  22.1    NaN\n",
      "...               ...   ...   ...   ...    ...\n",
      "31/12/2017 19:00  0.7  17.5  18.5  16.3   -2.0\n",
      "31/12/2017 20:00  0.7  17.5  18.6  14.5    6.0\n",
      "31/12/2017 21:00  0.7  14.1  15.1   8.6    5.0\n",
      "31/12/2017 22:00  1.1  22.0  23.6  12.5    5.0\n",
      "31/12/2017 23:00  0.9  19.4  20.7  10.4    6.0\n",
      "\n",
      "[8760 rows x 5 columns]\n"
     ]
    }
   ],
   "source": [
    "pvt_df=air_df.pivot(columns='Species',index='ReadingDateTime',values='Value')\n",
    "print(pvt_df)"
   ]
  },
  {
   "cell_type": "markdown",
   "metadata": {
    "id": "JmbiBXqFFIZx"
   },
   "source": [
    "6.\tA través de la función `describe()` responde:\n",
    "\n",
    "*   ¿Cuál es el mayor valor de `NO2` registrado? ¿A qué día pertenece?\n",
    "*   ¿Cuál es el menor valor de `PM10` registrado?¿A qué día pertenece?\n",
    "*   ¿Cuál es la mediana del `NO`? ¿Cómo se interpreta?\n",
    "*   ¿Cuál es el primer cuartil de `PM2.5`? ¿Qué significa?"
   ]
  },
  {
   "cell_type": "code",
   "execution_count": 6,
   "metadata": {
    "id": "_qWYoEx3Fbod"
   },
   "outputs": [
    {
     "name": "stdout",
     "output_type": "stream",
     "text": [
      "El dia 24/01/2017 19:00 se registro el mayor valor de NO2 ReadingDateTime\n",
      "24/01/2017 19:00    120.2\n",
      "Name: NO2, dtype: float64\n",
      "El dia 12/09/2017 23:00 se registro el menor valor de PM10 ReadingDateTime\n",
      "12/09/2017 23:00    7.0\n",
      "Name: NO2, dtype: float64\n",
      "La mediana de NO es: 7.1\n",
      "El primer cuartil de PM2.5 se encuentra en: 2190.0\n"
     ]
    },
    {
     "data": {
      "text/html": [
       "<div>\n",
       "<style scoped>\n",
       "    .dataframe tbody tr th:only-of-type {\n",
       "        vertical-align: middle;\n",
       "    }\n",
       "\n",
       "    .dataframe tbody tr th {\n",
       "        vertical-align: top;\n",
       "    }\n",
       "\n",
       "    .dataframe thead th {\n",
       "        text-align: right;\n",
       "    }\n",
       "</style>\n",
       "<table border=\"1\" class=\"dataframe\">\n",
       "  <thead>\n",
       "    <tr style=\"text-align: right;\">\n",
       "      <th>Species</th>\n",
       "      <th>NO</th>\n",
       "      <th>NO2</th>\n",
       "      <th>NOX</th>\n",
       "      <th>PM10</th>\n",
       "      <th>PM2.5</th>\n",
       "    </tr>\n",
       "  </thead>\n",
       "  <tbody>\n",
       "    <tr>\n",
       "      <th>count</th>\n",
       "      <td>8660.000000</td>\n",
       "      <td>8660.000000</td>\n",
       "      <td>8660.000000</td>\n",
       "      <td>8657.000000</td>\n",
       "      <td>5933.000000</td>\n",
       "    </tr>\n",
       "    <tr>\n",
       "      <th>mean</th>\n",
       "      <td>15.045115</td>\n",
       "      <td>38.010185</td>\n",
       "      <td>61.078661</td>\n",
       "      <td>22.551704</td>\n",
       "      <td>14.999831</td>\n",
       "    </tr>\n",
       "    <tr>\n",
       "      <th>std</th>\n",
       "      <td>26.678565</td>\n",
       "      <td>18.580841</td>\n",
       "      <td>54.584805</td>\n",
       "      <td>15.344755</td>\n",
       "      <td>13.558588</td>\n",
       "    </tr>\n",
       "    <tr>\n",
       "      <th>min</th>\n",
       "      <td>-2.000000</td>\n",
       "      <td>2.800000</td>\n",
       "      <td>1.000000</td>\n",
       "      <td>-5.600000</td>\n",
       "      <td>-8.000000</td>\n",
       "    </tr>\n",
       "    <tr>\n",
       "      <th>25%</th>\n",
       "      <td>3.100000</td>\n",
       "      <td>23.800000</td>\n",
       "      <td>30.300000</td>\n",
       "      <td>13.900000</td>\n",
       "      <td>7.000000</td>\n",
       "    </tr>\n",
       "    <tr>\n",
       "      <th>50%</th>\n",
       "      <td>7.100000</td>\n",
       "      <td>35.300000</td>\n",
       "      <td>46.900000</td>\n",
       "      <td>19.500000</td>\n",
       "      <td>11.000000</td>\n",
       "    </tr>\n",
       "    <tr>\n",
       "      <th>75%</th>\n",
       "      <td>15.500000</td>\n",
       "      <td>49.900000</td>\n",
       "      <td>73.800000</td>\n",
       "      <td>27.300000</td>\n",
       "      <td>18.000000</td>\n",
       "    </tr>\n",
       "    <tr>\n",
       "      <th>max</th>\n",
       "      <td>401.799990</td>\n",
       "      <td>120.200000</td>\n",
       "      <td>734.299990</td>\n",
       "      <td>633.099980</td>\n",
       "      <td>128.000000</td>\n",
       "    </tr>\n",
       "  </tbody>\n",
       "</table>\n",
       "</div>"
      ],
      "text/plain": [
       "Species           NO          NO2          NOX         PM10        PM2.5\n",
       "count    8660.000000  8660.000000  8660.000000  8657.000000  5933.000000\n",
       "mean       15.045115    38.010185    61.078661    22.551704    14.999831\n",
       "std        26.678565    18.580841    54.584805    15.344755    13.558588\n",
       "min        -2.000000     2.800000     1.000000    -5.600000    -8.000000\n",
       "25%         3.100000    23.800000    30.300000    13.900000     7.000000\n",
       "50%         7.100000    35.300000    46.900000    19.500000    11.000000\n",
       "75%        15.500000    49.900000    73.800000    27.300000    18.000000\n",
       "max       401.799990   120.200000   734.299990   633.099980   128.000000"
      ]
     },
     "execution_count": 6,
     "metadata": {},
     "output_type": "execute_result"
    }
   ],
   "source": [
    "\n",
    "MaxNo2=pvt_df[pvt_df['NO2']==pvt_df['NO2'].max()]\n",
    "print(f\"El dia {MaxNo2.index[0]} se registro el mayor valor de NO2 {MaxNo2['NO2']}\")\n",
    "MinPM10=pvt_df[pvt_df['PM10']==pvt_df['PM10'].min()]\n",
    "print(f\"El dia {MinPM10.index[0]} se registro el menor valor de PM10 {MinPM10['NO2']}\")\n",
    "print(f\"La mediana de NO es: {pvt_df['NO'].median()}\")\n",
    "print(f\"El primer cuartil de PM2.5 se encuentra en: {1/4*len(pvt_df['PM2.5'])}\")\n",
    "pvt_df.describe()\n"
   ]
  },
  {
   "cell_type": "markdown",
   "metadata": {
    "id": "Rki16hYaFd9p"
   },
   "source": [
    "7.\tDibuja un histograma para cada columna de `pvt_df`. ¿Qué contaminante tiene mayor variabilidad?"
   ]
  },
  {
   "cell_type": "markdown",
   "metadata": {},
   "source": [
    "El NO2 es el que mayot variabilidad presenta debido a que su histograma se encuentra con mayor distribución."
   ]
  },
  {
   "cell_type": "code",
   "execution_count": 7,
   "metadata": {
    "id": "NaGkunSeFfn8"
   },
   "outputs": [
    {
     "data": {
      "text/plain": [
       "<Axes: ylabel='Frequency'>"
      ]
     },
     "execution_count": 7,
     "metadata": {},
     "output_type": "execute_result"
    },
    {
     "data": {
      "image/png": "[encoded data removed]",
      "text/plain": [
       "<Figure size 640x480 with 1 Axes>"
      ]
     },
     "metadata": {},
     "output_type": "display_data"
    }
   ],
   "source": [
    "pvt_df['NO'].plot.hist()"
   ]
  },
  {
   "cell_type": "code",
   "execution_count": 8,
   "metadata": {},
   "outputs": [
    {
     "data": {
      "text/plain": [
       "<Axes: ylabel='Frequency'>"
      ]
     },
     "execution_count": 8,
     "metadata": {},
     "output_type": "execute_result"
    },
    {
     "data": {
      "image/png": "[encoded data removed]",
      "text/plain": [
       "<Figure size 640x480 with 1 Axes>"
      ]
     },
     "metadata": {},
     "output_type": "display_data"
    }
   ],
   "source": [
    "pvt_df['NO2'].plot.hist()"
   ]
  },
  {
   "cell_type": "code",
   "execution_count": 9,
   "metadata": {},
   "outputs": [
    {
     "data": {
      "text/plain": [
       "<Axes: ylabel='Frequency'>"
      ]
     },
     "execution_count": 9,
     "metadata": {},
     "output_type": "execute_result"
    },
    {
     "data": {
      "image/png": "[encoded data removed]",
      "text/plain": [
       "<Figure size 640x480 with 1 Axes>"
      ]
     },
     "metadata": {},
     "output_type": "display_data"
    }
   ],
   "source": [
    "pvt_df['NOX'].plot.hist()"
   ]
  },
  {
   "cell_type": "code",
   "execution_count": 10,
   "metadata": {},
   "outputs": [
    {
     "data": {
      "text/plain": [
       "<Axes: ylabel='Frequency'>"
      ]
     },
     "execution_count": 10,
     "metadata": {},
     "output_type": "execute_result"
    },
    {
     "data": {
      "image/png": "[encoded data removed]",
      "text/plain": [
       "<Figure size 640x480 with 1 Axes>"
      ]
     },
     "metadata": {},
     "output_type": "display_data"
    }
   ],
   "source": [
    "pvt_df['PM10'].plot.hist()"
   ]
  },
  {
   "cell_type": "code",
   "execution_count": 11,
   "metadata": {},
   "outputs": [
    {
     "data": {
      "text/plain": [
       "<Axes: ylabel='Frequency'>"
      ]
     },
     "execution_count": 11,
     "metadata": {},
     "output_type": "execute_result"
    },
    {
     "data": {
      "image/png": "[encoded data removed]",
      "text/plain": [
       "<Figure size 640x480 with 1 Axes>"
      ]
     },
     "metadata": {},
     "output_type": "display_data"
    }
   ],
   "source": [
    "pvt_df['PM2.5'].plot.hist()"
   ]
  },
  {
   "cell_type": "markdown",
   "metadata": {
    "id": "2hJ4LzP3fgvy"
   },
   "source": [
    "8.\tEjecuta el siguiente código y comenta qué hace cada línea:"
   ]
  },
  {
   "cell_type": "code",
   "execution_count": 12,
   "metadata": {
    "id": "goQuWzNVfomA"
   },
   "outputs": [
    {
     "data": {
      "text/html": [
       "<div>\n",
       "<style scoped>\n",
       "    .dataframe tbody tr th:only-of-type {\n",
       "        vertical-align: middle;\n",
       "    }\n",
       "\n",
       "    .dataframe tbody tr th {\n",
       "        vertical-align: top;\n",
       "    }\n",
       "\n",
       "    .dataframe thead th {\n",
       "        text-align: right;\n",
       "    }\n",
       "</style>\n",
       "<table border=\"1\" class=\"dataframe\">\n",
       "  <thead>\n",
       "    <tr style=\"text-align: right;\">\n",
       "      <th></th>\n",
       "      <th></th>\n",
       "      <th></th>\n",
       "      <th></th>\n",
       "      <th>Value</th>\n",
       "      <th>Units</th>\n",
       "    </tr>\n",
       "    <tr>\n",
       "      <th>Month</th>\n",
       "      <th>Day</th>\n",
       "      <th>Time</th>\n",
       "      <th>Species</th>\n",
       "      <th></th>\n",
       "      <th></th>\n",
       "    </tr>\n",
       "  </thead>\n",
       "  <tbody>\n",
       "    <tr>\n",
       "      <th rowspan=\"5\" valign=\"top\">01</th>\n",
       "      <th rowspan=\"5\" valign=\"top\">01</th>\n",
       "      <th>00:00</th>\n",
       "      <th>NO</th>\n",
       "      <td>3.5</td>\n",
       "      <td>ug m-3</td>\n",
       "    </tr>\n",
       "    <tr>\n",
       "      <th>01:00</th>\n",
       "      <th>NO</th>\n",
       "      <td>3.6</td>\n",
       "      <td>ug m-3</td>\n",
       "    </tr>\n",
       "    <tr>\n",
       "      <th>02:00</th>\n",
       "      <th>NO</th>\n",
       "      <td>2.2</td>\n",
       "      <td>ug m-3</td>\n",
       "    </tr>\n",
       "    <tr>\n",
       "      <th>03:00</th>\n",
       "      <th>NO</th>\n",
       "      <td>2.1</td>\n",
       "      <td>ug m-3</td>\n",
       "    </tr>\n",
       "    <tr>\n",
       "      <th>04:00</th>\n",
       "      <th>NO</th>\n",
       "      <td>3.3</td>\n",
       "      <td>ug m-3</td>\n",
       "    </tr>\n",
       "    <tr>\n",
       "      <th>...</th>\n",
       "      <th>...</th>\n",
       "      <th>...</th>\n",
       "      <th>...</th>\n",
       "      <td>...</td>\n",
       "      <td>...</td>\n",
       "    </tr>\n",
       "    <tr>\n",
       "      <th rowspan=\"5\" valign=\"top\">12</th>\n",
       "      <th rowspan=\"5\" valign=\"top\">31</th>\n",
       "      <th>19:00</th>\n",
       "      <th>PM2.5</th>\n",
       "      <td>-2.0</td>\n",
       "      <td>ug m-3</td>\n",
       "    </tr>\n",
       "    <tr>\n",
       "      <th>20:00</th>\n",
       "      <th>PM2.5</th>\n",
       "      <td>6.0</td>\n",
       "      <td>ug m-3</td>\n",
       "    </tr>\n",
       "    <tr>\n",
       "      <th>21:00</th>\n",
       "      <th>PM2.5</th>\n",
       "      <td>5.0</td>\n",
       "      <td>ug m-3</td>\n",
       "    </tr>\n",
       "    <tr>\n",
       "      <th>22:00</th>\n",
       "      <th>PM2.5</th>\n",
       "      <td>5.0</td>\n",
       "      <td>ug m-3</td>\n",
       "    </tr>\n",
       "    <tr>\n",
       "      <th>23:00</th>\n",
       "      <th>PM2.5</th>\n",
       "      <td>6.0</td>\n",
       "      <td>ug m-3</td>\n",
       "    </tr>\n",
       "  </tbody>\n",
       "</table>\n",
       "<p>43800 rows × 2 columns</p>\n",
       "</div>"
      ],
      "text/plain": [
       "                         Value   Units\n",
       "Month Day Time  Species               \n",
       "01    01  00:00 NO         3.5  ug m-3\n",
       "          01:00 NO         3.6  ug m-3\n",
       "          02:00 NO         2.2  ug m-3\n",
       "          03:00 NO         2.1  ug m-3\n",
       "          04:00 NO         3.3  ug m-3\n",
       "...                        ...     ...\n",
       "12    31  19:00 PM2.5     -2.0  ug m-3\n",
       "          20:00 PM2.5      6.0  ug m-3\n",
       "          21:00 PM2.5      5.0  ug m-3\n",
       "          22:00 PM2.5      5.0  ug m-3\n",
       "          23:00 PM2.5      6.0  ug m-3\n",
       "\n",
       "[43800 rows x 2 columns]"
      ]
     },
     "execution_count": 12,
     "metadata": {},
     "output_type": "execute_result"
    }
   ],
   "source": [
    "#Covierte cada entrada de fecha/tiempo en un string para separar la fecha de la hora y generar un nuevo dataset\n",
    "datetime_df = air_df.ReadingDateTime.str.split(' ',expand=True)\n",
    "#Asigna el nombre  las dos columnas generadas a partir de la linea anterior\n",
    "datetime_df.columns = ['Date','Time']\n",
    "#Muestra el dataset ya formateado \n",
    "datetime_df\n",
    "#Separa la columna de la fecha en los diferenes campos dia, mes y anio\n",
    "date_df = datetime_df.Date.str.split('/',expand=True)\n",
    "#Asigna el nomre de las nuevas columnas generadas\n",
    "date_df.columns = ['Day','Month','Year']\n",
    "date_df\n",
    "#Une los dos dataset creados previaments, seleccionando todo el dataset de fecha y seleccionando solamente la columna de tiempo del primer dataset generado\n",
    "#De igual forma elimina las columnas previamente existentes del tiempo y anio\n",
    "air_df = air_df.join(date_df).join(datetime_df.Time).drop(columns=['ReadingDateTime','Year'])\n",
    "#Asigna nuevos indices al dataset original\n",
    "air_df = air_df.set_index(['Month','Day','Time','Species'])\n",
    "air_df"
   ]
  },
  {
   "cell_type": "markdown",
   "metadata": {
    "id": "37E3dol8fpik"
   },
   "source": [
    "9. Ejecuta la siguiente instrucción y compara la salida del código anterior con `pvt_df` del ejercicio 8. ¿Son iguales?"
   ]
  },
  {
   "cell_type": "markdown",
   "metadata": {},
   "source": [
    "La diferencia existente entre el dataset mostrado en la parte inferior y el previamente generado (pvt_df) radica en que el dataset en la parte inferior es un dataset con multi-indexado, esto se puede comparar con el comportamiento de un agrupamiento por varias columnas."
   ]
  },
  {
   "cell_type": "code",
   "execution_count": 13,
   "metadata": {
    "id": "cgbAxJrvfweW"
   },
   "outputs": [
    {
     "data": {
      "text/html": [
       "<div>\n",
       "<style scoped>\n",
       "    .dataframe tbody tr th:only-of-type {\n",
       "        vertical-align: middle;\n",
       "    }\n",
       "\n",
       "    .dataframe tbody tr th {\n",
       "        vertical-align: top;\n",
       "    }\n",
       "\n",
       "    .dataframe thead tr th {\n",
       "        text-align: left;\n",
       "    }\n",
       "\n",
       "    .dataframe thead tr:last-of-type th {\n",
       "        text-align: right;\n",
       "    }\n",
       "</style>\n",
       "<table border=\"1\" class=\"dataframe\">\n",
       "  <thead>\n",
       "    <tr>\n",
       "      <th></th>\n",
       "      <th></th>\n",
       "      <th></th>\n",
       "      <th colspan=\"5\" halign=\"left\">Value</th>\n",
       "      <th colspan=\"5\" halign=\"left\">Units</th>\n",
       "    </tr>\n",
       "    <tr>\n",
       "      <th></th>\n",
       "      <th></th>\n",
       "      <th>Species</th>\n",
       "      <th>NO</th>\n",
       "      <th>NO2</th>\n",
       "      <th>NOX</th>\n",
       "      <th>PM10</th>\n",
       "      <th>PM2.5</th>\n",
       "      <th>NO</th>\n",
       "      <th>NO2</th>\n",
       "      <th>NOX</th>\n",
       "      <th>PM10</th>\n",
       "      <th>PM2.5</th>\n",
       "    </tr>\n",
       "    <tr>\n",
       "      <th>Month</th>\n",
       "      <th>Day</th>\n",
       "      <th>Time</th>\n",
       "      <th></th>\n",
       "      <th></th>\n",
       "      <th></th>\n",
       "      <th></th>\n",
       "      <th></th>\n",
       "      <th></th>\n",
       "      <th></th>\n",
       "      <th></th>\n",
       "      <th></th>\n",
       "      <th></th>\n",
       "    </tr>\n",
       "  </thead>\n",
       "  <tbody>\n",
       "    <tr>\n",
       "      <th rowspan=\"5\" valign=\"top\">01</th>\n",
       "      <th rowspan=\"5\" valign=\"top\">01</th>\n",
       "      <th>00:00</th>\n",
       "      <td>3.5</td>\n",
       "      <td>30.8</td>\n",
       "      <td>36.2</td>\n",
       "      <td>35.7</td>\n",
       "      <td>NaN</td>\n",
       "      <td>ug m-3</td>\n",
       "      <td>ug m-3</td>\n",
       "      <td>ug m-3 as NO2</td>\n",
       "      <td>ug/m3</td>\n",
       "      <td>ug m-3</td>\n",
       "    </tr>\n",
       "    <tr>\n",
       "      <th>01:00</th>\n",
       "      <td>3.6</td>\n",
       "      <td>31.5</td>\n",
       "      <td>37.0</td>\n",
       "      <td>28.5</td>\n",
       "      <td>NaN</td>\n",
       "      <td>ug m-3</td>\n",
       "      <td>ug m-3</td>\n",
       "      <td>ug m-3 as NO2</td>\n",
       "      <td>ug/m3</td>\n",
       "      <td>ug m-3</td>\n",
       "    </tr>\n",
       "    <tr>\n",
       "      <th>02:00</th>\n",
       "      <td>2.2</td>\n",
       "      <td>27.3</td>\n",
       "      <td>30.7</td>\n",
       "      <td>22.7</td>\n",
       "      <td>NaN</td>\n",
       "      <td>ug m-3</td>\n",
       "      <td>ug m-3</td>\n",
       "      <td>ug m-3 as NO2</td>\n",
       "      <td>ug/m3</td>\n",
       "      <td>ug m-3</td>\n",
       "    </tr>\n",
       "    <tr>\n",
       "      <th>03:00</th>\n",
       "      <td>2.1</td>\n",
       "      <td>23.5</td>\n",
       "      <td>26.8</td>\n",
       "      <td>20.5</td>\n",
       "      <td>NaN</td>\n",
       "      <td>ug m-3</td>\n",
       "      <td>ug m-3</td>\n",
       "      <td>ug m-3 as NO2</td>\n",
       "      <td>ug/m3</td>\n",
       "      <td>ug m-3</td>\n",
       "    </tr>\n",
       "    <tr>\n",
       "      <th>04:00</th>\n",
       "      <td>3.3</td>\n",
       "      <td>28.0</td>\n",
       "      <td>33.0</td>\n",
       "      <td>22.1</td>\n",
       "      <td>NaN</td>\n",
       "      <td>ug m-3</td>\n",
       "      <td>ug m-3</td>\n",
       "      <td>ug m-3 as NO2</td>\n",
       "      <td>ug/m3</td>\n",
       "      <td>ug m-3</td>\n",
       "    </tr>\n",
       "    <tr>\n",
       "      <th>...</th>\n",
       "      <th>...</th>\n",
       "      <th>...</th>\n",
       "      <td>...</td>\n",
       "      <td>...</td>\n",
       "      <td>...</td>\n",
       "      <td>...</td>\n",
       "      <td>...</td>\n",
       "      <td>...</td>\n",
       "      <td>...</td>\n",
       "      <td>...</td>\n",
       "      <td>...</td>\n",
       "      <td>...</td>\n",
       "    </tr>\n",
       "    <tr>\n",
       "      <th rowspan=\"5\" valign=\"top\">12</th>\n",
       "      <th rowspan=\"5\" valign=\"top\">31</th>\n",
       "      <th>19:00</th>\n",
       "      <td>0.7</td>\n",
       "      <td>17.5</td>\n",
       "      <td>18.5</td>\n",
       "      <td>16.3</td>\n",
       "      <td>-2.0</td>\n",
       "      <td>ug m-3</td>\n",
       "      <td>ug m-3</td>\n",
       "      <td>ug m-3 as NO2</td>\n",
       "      <td>ug/m3</td>\n",
       "      <td>ug m-3</td>\n",
       "    </tr>\n",
       "    <tr>\n",
       "      <th>20:00</th>\n",
       "      <td>0.7</td>\n",
       "      <td>17.5</td>\n",
       "      <td>18.6</td>\n",
       "      <td>14.5</td>\n",
       "      <td>6.0</td>\n",
       "      <td>ug m-3</td>\n",
       "      <td>ug m-3</td>\n",
       "      <td>ug m-3 as NO2</td>\n",
       "      <td>ug/m3</td>\n",
       "      <td>ug m-3</td>\n",
       "    </tr>\n",
       "    <tr>\n",
       "      <th>21:00</th>\n",
       "      <td>0.7</td>\n",
       "      <td>14.1</td>\n",
       "      <td>15.1</td>\n",
       "      <td>8.6</td>\n",
       "      <td>5.0</td>\n",
       "      <td>ug m-3</td>\n",
       "      <td>ug m-3</td>\n",
       "      <td>ug m-3 as NO2</td>\n",
       "      <td>ug/m3</td>\n",
       "      <td>ug m-3</td>\n",
       "    </tr>\n",
       "    <tr>\n",
       "      <th>22:00</th>\n",
       "      <td>1.1</td>\n",
       "      <td>22.0</td>\n",
       "      <td>23.6</td>\n",
       "      <td>12.5</td>\n",
       "      <td>5.0</td>\n",
       "      <td>ug m-3</td>\n",
       "      <td>ug m-3</td>\n",
       "      <td>ug m-3 as NO2</td>\n",
       "      <td>ug/m3</td>\n",
       "      <td>ug m-3</td>\n",
       "    </tr>\n",
       "    <tr>\n",
       "      <th>23:00</th>\n",
       "      <td>0.9</td>\n",
       "      <td>19.4</td>\n",
       "      <td>20.7</td>\n",
       "      <td>10.4</td>\n",
       "      <td>6.0</td>\n",
       "      <td>ug m-3</td>\n",
       "      <td>ug m-3</td>\n",
       "      <td>ug m-3 as NO2</td>\n",
       "      <td>ug/m3</td>\n",
       "      <td>ug m-3</td>\n",
       "    </tr>\n",
       "  </tbody>\n",
       "</table>\n",
       "<p>8760 rows × 10 columns</p>\n",
       "</div>"
      ],
      "text/plain": [
       "                Value                           Units                         \\\n",
       "Species            NO   NO2   NOX  PM10 PM2.5      NO     NO2            NOX   \n",
       "Month Day Time                                                                 \n",
       "01    01  00:00   3.5  30.8  36.2  35.7   NaN  ug m-3  ug m-3  ug m-3 as NO2   \n",
       "          01:00   3.6  31.5  37.0  28.5   NaN  ug m-3  ug m-3  ug m-3 as NO2   \n",
       "          02:00   2.2  27.3  30.7  22.7   NaN  ug m-3  ug m-3  ug m-3 as NO2   \n",
       "          03:00   2.1  23.5  26.8  20.5   NaN  ug m-3  ug m-3  ug m-3 as NO2   \n",
       "          04:00   3.3  28.0  33.0  22.1   NaN  ug m-3  ug m-3  ug m-3 as NO2   \n",
       "...               ...   ...   ...   ...   ...     ...     ...            ...   \n",
       "12    31  19:00   0.7  17.5  18.5  16.3  -2.0  ug m-3  ug m-3  ug m-3 as NO2   \n",
       "          20:00   0.7  17.5  18.6  14.5   6.0  ug m-3  ug m-3  ug m-3 as NO2   \n",
       "          21:00   0.7  14.1  15.1   8.6   5.0  ug m-3  ug m-3  ug m-3 as NO2   \n",
       "          22:00   1.1  22.0  23.6  12.5   5.0  ug m-3  ug m-3  ug m-3 as NO2   \n",
       "          23:00   0.9  19.4  20.7  10.4   6.0  ug m-3  ug m-3  ug m-3 as NO2   \n",
       "\n",
       "                                \n",
       "Species           PM10   PM2.5  \n",
       "Month Day Time                  \n",
       "01    01  00:00  ug/m3  ug m-3  \n",
       "          01:00  ug/m3  ug m-3  \n",
       "          02:00  ug/m3  ug m-3  \n",
       "          03:00  ug/m3  ug m-3  \n",
       "          04:00  ug/m3  ug m-3  \n",
       "...                ...     ...  \n",
       "12    31  19:00  ug/m3  ug m-3  \n",
       "          20:00  ug/m3  ug m-3  \n",
       "          21:00  ug/m3  ug m-3  \n",
       "          22:00  ug/m3  ug m-3  \n",
       "          23:00  ug/m3  ug m-3  \n",
       "\n",
       "[8760 rows x 10 columns]"
      ]
     },
     "execution_count": 13,
     "metadata": {},
     "output_type": "execute_result"
    }
   ],
   "source": [
    "air_df.unstack()"
   ]
  },
  {
   "cell_type": "markdown",
   "metadata": {},
   "source": []
  },
  {
   "cell_type": "markdown",
   "metadata": {
    "id": "K1vWLX2ffxHV"
   },
   "source": [
    "10.\tExplica cuáles son las diferencias y similitudes entre el par `melt()/pivot()` y el par `stack()/unstack()`. Si tuvieras que elegir una contraparte para `melt()` entre `stack()/unstack()`, ¿cuál elegirías? ¿Por qué?"
   ]
  },
  {
   "cell_type": "markdown",
   "metadata": {},
   "source": [
    "Ambos par de herramientas tienen la finalidad de distribuir la informacion proporcionada dentro del dataset. Ambos pares generan la posibilidad de añadir o disminuir el número de columnas existentes. \n",
    "El caso del melt que se utiliza para disminuir el número de columnas, se puede hacer refencia al comportamiento del stack ya que de igual manera disminuye el número de columnas pero genera una tabla multi-indexada que el caso de melt, esto no paso.\n",
    "En su contra parte el pivot, genera un mayor número de columnas, este comportamiento es similar al  de unstack ya que de una tabla multi-indexada genera una tabla con menos indices que la original al añadir el indice eliminado a las columnas."
   ]
  },
  {
   "cell_type": "markdown",
   "metadata": {
    "id": "L0EtgOVIfzRd"
   },
   "source": []
  }
 ],
 "metadata": {
  "colab": {
   "provenance": []
  },
  "kernelspec": {
   "display_name": "Python 3 (ipykernel)",
   "language": "python",
   "name": "python3"
  },
  "language_info": {
   "codemirror_mode": {
    "name": "ipython",
    "version": 3
   },
   "file_extension": ".py",
   "mimetype": "text/x-python",
   "name": "python",
   "nbconvert_exporter": "python",
   "pygments_lexer": "ipython3",
   "version": "3.11.3"
  }
 },
 "nbformat": 4,
 "nbformat_minor": 4
}
